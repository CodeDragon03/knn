{
 "cells": [
  {
   "cell_type": "code",
   "execution_count": 1,
   "id": "c96ea7cf",
   "metadata": {},
   "outputs": [],
   "source": [
    "import warnings\n",
    "\n",
    "warnings.filterwarnings(\"ignore\")"
   ]
  },
  {
   "cell_type": "code",
   "execution_count": 2,
   "id": "a2f238e2",
   "metadata": {},
   "outputs": [],
   "source": [
    "%matplotlib inline"
   ]
  },
  {
   "cell_type": "code",
   "execution_count": 3,
   "id": "0d26f68d",
   "metadata": {},
   "outputs": [],
   "source": [
    "import tarfile"
   ]
  },
  {
   "cell_type": "code",
   "execution_count": 4,
   "id": "3219d2c2",
   "metadata": {},
   "outputs": [
    {
     "name": "stdout",
     "output_type": "stream",
     "text": [
      "Extraction successful!\n"
     ]
    }
   ],
   "source": [
    "try:\n",
    "    with tarfile.open('../data/external/101_ObjectCategories.tar.gz')as tar:\n",
    "        tar.extractall('../data/raw/')\n",
    "except Exception as e:\n",
    "    print(f\"An error occurred: {e}\")\n",
    "else:\n",
    "    print('Extraction successful!')"
   ]
  },
  {
   "cell_type": "code",
   "execution_count": 5,
   "id": "93297be1",
   "metadata": {},
   "outputs": [],
   "source": [
    "import os"
   ]
  },
  {
   "cell_type": "code",
   "execution_count": 6,
   "id": "e3b9948a",
   "metadata": {},
   "outputs": [
    {
     "name": "stdout",
     "output_type": "stream",
     "text": [
      "The labesls are in lowercase and separated by a hyphen:\n",
      "\n",
      "The label is: accordion | The label is: airplanes | The label is: anchor | The label is: ant | The label is: background-google | The label is: barrel | The label is: bass | The label is: beaver | The label is: binocular | The label is: bonsai | The label is: brain | The label is: brontosaurus | The label is: buddha | The label is: butterfly | The label is: camera | The label is: cannon | The label is: car-side | The label is: ceiling-fan | The label is: cellphone | The label is: chair | The label is: chandelier | The label is: cougar-body | The label is: cougar-face | The label is: crab | The label is: crayfish | The label is: crocodile | The label is: crocodile-head | The label is: cup | The label is: dalmatian | The label is: dollar-bill | The label is: dolphin | The label is: dragonfly | The label is: electric-guitar | The label is: elephant | The label is: emu | The label is: euphonium | The label is: ewer | The label is: faces | The label is: faces-easy | The label is: ferry | The label is: flamingo | The label is: flamingo-head | The label is: garfield | The label is: gerenuk | The label is: gramophone | The label is: grand-piano | The label is: hawksbill | The label is: headphone | The label is: hedgehog | The label is: helicopter | The label is: ibis | The label is: inline-skate | The label is: joshua-tree | The label is: kangaroo | The label is: ketch | The label is: lamp | The label is: laptop | The label is: leopards | The label is: llama | The label is: lobster | The label is: lotus | The label is: mandolin | The label is: mayfly | The label is: menorah | The label is: metronome | The label is: minaret | The label is: motorbikes | The label is: nautilus | The label is: octopus | The label is: okapi | The label is: pagoda | The label is: panda | The label is: pigeon | The label is: pizza | The label is: platypus | The label is: pyramid | The label is: revolver | The label is: rhino | The label is: rooster | The label is: saxophone | The label is: schooner | The label is: scissors | The label is: scorpion | The label is: sea-horse | The label is: snoopy | The label is: soccer-ball | The label is: stapler | The label is: starfish | The label is: stegosaurus | The label is: stop-sign | The label is: strawberry | The label is: sunflower | The label is: tick | The label is: trilobite | The label is: umbrella | The label is: watch | The label is: water-lilly | The label is: wheelchair | The label is: wild-cat | The label is: windsor-chair | The label is: wrench | The label is: yin-yang | "
     ]
    }
   ],
   "source": [
    "print(\"The labesls are in lowercase and separated by a hyphen:\", end=\"\\n\\n\")\n",
    "# List the labels in the dataset    \n",
    "for label in os.listdir('../data/raw/101_ObjectCategories'):\n",
    "    if os.path.isdir(os.path.join('../data/raw/101_ObjectCategories', label)):\n",
    "        print(\"The label is:\" ,label.lower().replace(\"_\", \"-\"), end=\" | \")"
   ]
  },
  {
   "cell_type": "code",
   "execution_count": 7,
   "id": "02ae725b",
   "metadata": {},
   "outputs": [
    {
     "name": "stdout",
     "output_type": "stream",
     "text": [
      "The total number of labels are:  102\n"
     ]
    }
   ],
   "source": [
    "total_labels = [label.lower().replace(\"_\", \"-\") for label in os.listdir('../data/raw/101_ObjectCategories') if os.path.isdir(os.path.join('../data/raw/101_ObjectCategories', label))]\n",
    "\n",
    "print(\"The total number of labels are: \",len(total_labels))"
   ]
  },
  {
   "cell_type": "code",
   "execution_count": null,
   "id": "16d3e15c",
   "metadata": {},
   "outputs": [],
   "source": [
    "import matplotlib.pyplot as plt\n",
    "from PIL import Image"
   ]
  }
 ],
 "metadata": {
  "kernelspec": {
   "display_name": "knn-NmBz5-Bx",
   "language": "python",
   "name": "python3"
  },
  "language_info": {
   "codemirror_mode": {
    "name": "ipython",
    "version": 3
   },
   "file_extension": ".py",
   "mimetype": "text/x-python",
   "name": "python",
   "nbconvert_exporter": "python",
   "pygments_lexer": "ipython3",
   "version": "3.12.8"
  }
 },
 "nbformat": 4,
 "nbformat_minor": 5
}
